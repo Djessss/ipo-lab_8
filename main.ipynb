{
 "cells": [
  {
   "cell_type": "markdown",
   "metadata": {},
   "source": [
    "# Лабораторная работа №8\n",
    "\n"
   ]
  },
  {
   "cell_type": "markdown",
   "metadata": {},
   "source": [
    "### Цели лабораторной работы:\n",
    "Освоить работу с Excel-файлами средствами Python.\n",
    "Научиться использовать библиотеку openpyxl для чтения и записи данных.\n",
    "Научиться строить столбчатые диаграммы с помощью matplotlib.\n",
    "Развить навыки обработки и визуализации табличных данных.\n",
    "### Задачи лабораторной работы:\n",
    "Считать данные из Excel-файла с результатами студентов.\n",
    "Выполнить вычисления (средние, максимальные, групповые показатели).\n",
    "Построить столбчатые диаграммы по заданным вариантам.\n",
    "Подписать оси, добавить заголовки и легенды к графикам.\n",
    "Сохранить результаты и визуализации в Jupyter Notebook.\n",
    "### Ход работы\n",
    "1. Изучите теоретические сведения\n",
    "2. Выполните общие и индивидуальные задания в тетради для лабораторных и\n",
    "практических работ или на рабочем компьютере\n",
    "3. Сдайте выполненные задание в Classroom или сдать тетрадь преподавателю\n",
    "4. Защитить выполненные задания\n",
    "\n",
    "\n"
   ]
  },
  {
   "cell_type": "code",
   "execution_count": 5,
   "metadata": {},
   "outputs": [],
   "source": [
    "from openpyxl import load_workbook\n",
    "import matplotlib\n",
    "wb = load_workbook('students.xlsx')\n",
    "ws = wb['Оценки']"
   ]
  },
  {
   "cell_type": "markdown",
   "metadata": {},
   "source": [
    "## 1 задание\n",
    "Вычислить средний балл по каждому предмету: Математика, Физика,\n",
    "Информатика."
   ]
  },
  {
   "cell_type": "code",
   "execution_count": 6,
   "metadata": {},
   "outputs": [
    {
     "name": "stdout",
     "output_type": "stream",
     "text": [
      "Среднее значение по математике 6.514018691588785\n",
      "Среднее значение по физике 6.990654205607477\n",
      "Среднее значение по информатике 7.766355140186916\n"
     ]
    }
   ],
   "source": [
    "cell_range = ws['B2':'B108']\n",
    "sum_m = 0\n",
    "for i in cell_range:\n",
    "    sum_m += i[0].value\n",
    "print(\"Среднее значение по математике\",sum_m/len(cell_range))\n",
    "\n",
    "cell_range = ws['C2':'C108']\n",
    "sum_f= 0\n",
    "for i in cell_range:\n",
    "    sum_f += i[0].value\n",
    "print(\"Среднее значение по физике\",sum_f/len(cell_range))\n",
    "\n",
    "cell_range = ws['D2':'D108']\n",
    "sum_i = 0\n",
    "for i in cell_range:\n",
    "    sum_i  += i[0].value\n",
    "print(\"Среднее значение по информатике\",sum_i/len(cell_range))"
   ]
  },
  {
   "cell_type": "markdown",
   "metadata": {},
   "source": [
    "## Задание 2 и 3\n",
    "Построить столбчатую диаграмму, где по оси X — предметы, по оси Y \n",
    "средний балл. Подписать столбцы и добавить сетку."
   ]
  },
  {
   "cell_type": "code",
   "execution_count": 7,
   "metadata": {},
   "outputs": [
    {
     "data": {
      "text/plain": [
       "Text(0.5, 1.0, 'Средние балы по предметам')"
      ]
     },
     "execution_count": 7,
     "metadata": {},
     "output_type": "execute_result"
    },
    {
     "data": {
      "image/png": "[encoded data removed]",
      "text/plain": [
       "<Figure size 640x480 with 1 Axes>"
      ]
     },
     "metadata": {},
     "output_type": "display_data"
    }
   ],
   "source": [
    "x = [\"Математика\",\"Физика\",\"Информатика\"]\n",
    "y = [sum_m/len(cell_range),sum_f/len(cell_range),sum_i/len(cell_range)]\n",
    "\n",
    "import matplotlib.pyplot as plt\n",
    "plt.bar(x, y)\n",
    "plt.grid()\n",
    "plt.xlabel('Предметы')\n",
    "plt.ylabel('Средний бал')\n",
    "plt.title('Средние балы по предметам')"
   ]
  },
  {
   "cell_type": "markdown",
   "metadata": {},
   "source": [
    "## Задание 4\n",
    "Запишите результаты подсчетов (те что для графиков) в файл\n",
    "students_result.xlsx\n"
   ]
  },
  {
   "cell_type": "code",
   "execution_count": 9,
   "metadata": {},
   "outputs": [],
   "source": [
    "from openpyxl import Workbook\n",
    "wb_cr = Workbook()\n",
    "ws_cr = wb.active\n",
    "ws_cr.title = \"midleeBall\"\n",
    "for i in range(len(x)):\n",
    "    ws_cr.cell(row=1, column=i+1).value=y[i]\n",
    "    ws_cr.cell(row=2, column=i+1).value=x[i]\n",
    "wb_cr.save('students_results.xlsx')"
   ]
  }
 ],
 "metadata": {
  "kernelspec": {
   "display_name": "Python 3",
   "language": "python",
   "name": "python3"
  },
  "language_info": {
   "codemirror_mode": {
    "name": "ipython",
    "version": 3
   },
   "file_extension": ".py",
   "mimetype": "text/x-python",
   "name": "python",
   "nbconvert_exporter": "python",
   "pygments_lexer": "ipython3",
   "version": "3.13.7"
  }
 },
 "nbformat": 4,
 "nbformat_minor": 2
}
